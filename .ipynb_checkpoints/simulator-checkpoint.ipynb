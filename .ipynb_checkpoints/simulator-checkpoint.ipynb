{
 "cells": [
  {
   "cell_type": "markdown",
   "metadata": {},
   "source": [
    "# Quantum algorithm on CI graphs"
   ]
  },
  {
   "cell_type": "markdown",
   "metadata": {},
   "source": [
    "## Import package"
   ]
  },
  {
   "cell_type": "code",
   "execution_count": 1,
   "metadata": {
    "scrolled": true
   },
   "outputs": [
    {
     "name": "stderr",
     "output_type": "stream",
     "text": [
      "C:\\Users\\USER\\anaconda3\\envs\\IBMQ\\lib\\site-packages\\qiskit\\aqua\\__init__.py:86: DeprecationWarning: The package qiskit.aqua is deprecated. It was moved/refactored to qiskit-terra For more information see <https://github.com/Qiskit/qiskit-aqua/blob/main/README.md#migration-guide>\n",
      "  warn_package('aqua', 'qiskit-terra')\n"
     ]
    }
   ],
   "source": [
    "import sys\n",
    "import numpy as np\n",
    "import math\n",
    "import random\n",
    "import turtle\n",
    "import qiskit\n",
    "from qiskit import QuantumCircuit, execute, Aer\n",
    "from qiskit import IBMQ\n",
    "from qiskit.aqua.algorithms import Grover\n",
    "from qiskit.aqua.components.oracles import TruthTableOracle\n",
    "from qiskit.providers.ibmq import least_busy"
   ]
  },
  {
   "cell_type": "markdown",
   "metadata": {},
   "source": [
    "## Parameters"
   ]
  },
  {
   "cell_type": "code",
   "execution_count": 2,
   "metadata": {},
   "outputs": [],
   "source": [
    "N = 100\n",
    "nearest_connect = 4 #0 < lower < upper <= N/2\n",
    "farthest_connect = 6\n",
    "prob = 0.3\n",
    "state = 'local' # remote or local"
   ]
  },
  {
   "cell_type": "markdown",
   "metadata": {},
   "source": [
    "## IBMQ config"
   ]
  },
  {
   "cell_type": "code",
   "execution_count": 3,
   "metadata": {},
   "outputs": [
    {
     "data": {
      "text/plain": [
       "<AccountProvider for IBMQ(hub='ibm-q', group='open', project='main')>"
      ]
     },
     "execution_count": 3,
     "metadata": {},
     "output_type": "execute_result"
    }
   ],
   "source": [
    "IBMQ.enable_account('e00b757253f820dd6dc1f1e6f173651daa82fc45f76f37510aa8d9032c990536f2fdda1fe3eaeeea836d1b360136ca0c38952ed9e5d36011207ab9fa47cc4082')"
   ]
  },
  {
   "cell_type": "markdown",
   "metadata": {},
   "source": [
    "## Set backend(local simulator or remote IBMQ)"
   ]
  },
  {
   "cell_type": "code",
   "execution_count": 4,
   "metadata": {},
   "outputs": [],
   "source": [
    "if(state != 'remote'):\n",
    "    # simulator\n",
    "    backend = Aer.get_backend('qasm_simulator')\n",
    "else:\n",
    "    provider = IBMQ.get_provider(hub='ibm-q')\n",
    "    #backend = provider.get_backend('ibmq_qasm_simulator')\n",
    "    backend = provider.get_backend('ibmq_bogota')"
   ]
  },
  {
   "cell_type": "markdown",
   "metadata": {},
   "source": [
    "## Check input functions"
   ]
  },
  {
   "cell_type": "code",
   "execution_count": 5,
   "metadata": {},
   "outputs": [],
   "source": [
    "def check_input(N, nearest_connect, farthest_connect):\n",
    "    if(nearest_connect <= 0 or farthest_connect <= 0 or N <= 0):\n",
    "        print('error: nearest_connect should bigger than 0')\n",
    "        exit()\n",
    "    elif(nearest_connect > farthest_connect):\n",
    "        print('error: nearest_connect should not bigger than farthest_connect')\n",
    "        exit()\n",
    "    elif(farthest_connect > N/2):\n",
    "        print('error: farthest_connect should not exceed half of total node')\n",
    "        exit()\n",
    "    else:\n",
    "        return"
   ]
  },
  {
   "cell_type": "markdown",
   "metadata": {},
   "source": [
    "## Create Adjacency Matrix and Input Boolean array"
   ]
  },
  {
   "cell_type": "code",
   "execution_count": 6,
   "metadata": {},
   "outputs": [],
   "source": [
    "def create_matrix(N, nearest_connect, farthest_connect):\n",
    "    array = np.zeros((N,N))\n",
    "    for i in range (N):\n",
    "        for j in range(nearest_connect, farthest_connect+1):\n",
    "            if(i+j>N-1):\n",
    "                array[i][i+j-N]=1\n",
    "            else:\n",
    "                array[i][i+j] = 1\n",
    "    for i in range (N):\n",
    "        for j in range(nearest_connect, farthest_connect+1):\n",
    "            if(i-j<0):\n",
    "                array[i][i-j+N]=1\n",
    "            else:\n",
    "                array[i][i-j] = 1\n",
    "    return array\n",
    "\n",
    "def decision(probability):\n",
    "    return random.random() < probability"
   ]
  },
  {
   "cell_type": "markdown",
   "metadata": {},
   "source": [
    "## Plotting utility: Turtle"
   ]
  },
  {
   "cell_type": "code",
   "execution_count": 7,
   "metadata": {},
   "outputs": [],
   "source": [
    "def plot(a,f):\n",
    "    def draw(i,j,pos):\n",
    "        turtle.penup()\n",
    "        turtle.setposition(pos[j][0],pos[j][1])\n",
    "        dir_vec = [pos[i][0]-pos[j][0],pos[i][1]-pos[j][1]]\n",
    "        dir = math.atan(dir_vec[1]/dir_vec[0])\n",
    "        #fixup\n",
    "        if dir_vec[0]<0 :\n",
    "            dir+=math.pi\n",
    "        \n",
    "        #radient to degree\n",
    "        dir = dir*180/math.pi\n",
    "\n",
    "        length = math.sqrt((dir_vec[0])*(dir_vec[0])+(dir_vec[1])*(dir_vec[1]))\n",
    "\n",
    "        turtle.setheading(dir)\n",
    "        turtle.pendown()\n",
    "        turtle.forward(length)\n",
    "\n",
    "    size = len(f)\n",
    "    #remember cordinate\n",
    "    table = np.zeros((size,2))\n",
    "    screen = turtle.Screen()\n",
    "    turtle.speed(0)\n",
    "    turtle.penup()\n",
    "    turtle.setposition(100,0)\n",
    "    turtle.pendown()\n",
    "    turtle.setheading(90)\n",
    "    turtle.hideturtle()\n",
    "    degree=0\n",
    "    index=0\n",
    "    arc = 360/size\n",
    "    #draw vertices\n",
    "    while degree<360:\n",
    "\n",
    "        if f[index]==0:\n",
    "            turtle.color('blue')\n",
    "        else:\n",
    "            turtle.color('red')\n",
    "        turtle.dot(10)\n",
    "        turtle.color('black')\n",
    "        turtle.write(str(index),font=(\"Verdana\", 15, \"normal\"))\n",
    "        table[index] = turtle.pos()\n",
    "        turtle.penup()\n",
    "        turtle.circle(100,extent=arc)\n",
    "        turtle.pendown()\n",
    "        degree+=arc\n",
    "        index +=1\n",
    "        \n",
    "    #draw edges\n",
    "    for i in range(size):\n",
    "        for j in range(i):\n",
    "            if a[i][j]==1:\n",
    "                pass\n",
    "                draw(i,j,table)\n",
    "\n",
    "    print('finish plotting')\n",
    "    turtle.mainloop()"
   ]
  },
  {
   "cell_type": "markdown",
   "metadata": {},
   "source": [
    "## Classical functions"
   ]
  },
  {
   "cell_type": "code",
   "execution_count": 8,
   "metadata": {},
   "outputs": [],
   "source": [
    "def find_min_one_idx(low_idx,high_idx,f):\n",
    "    min_one_idx = -1\n",
    "    for j in range(low_idx,high_idx+1):\n",
    "        if(f[j]):\n",
    "            min_one_idx = j\n",
    "            break\n",
    "    return min_one_idx\n",
    "\n",
    "def find_max_one_idx(low_idx,high_idx,f):\n",
    "    max_one_idx = -1\n",
    "    for j in range(high_idx,low_idx-1,-1):\n",
    "        if(f[j]):\n",
    "            max_one_idx = j\n",
    "            break\n",
    "    return max_one_idx\n",
    "\n",
    "def is_any_one(low_idx,high_idx,f):\n",
    "    is_any_one_var = 0\n",
    "    for k in range(low_idx,high_idx+1):\n",
    "        if(k >= N):\n",
    "            k = k - N\n",
    "        if(f[k]):\n",
    "            is_any_one_var = 1\n",
    "            break\n",
    "    return is_any_one_var"
   ]
  },
  {
   "cell_type": "markdown",
   "metadata": {},
   "source": [
    "## Functions using quantum algorithm"
   ]
  },
  {
   "cell_type": "code",
   "execution_count": 9,
   "metadata": {},
   "outputs": [],
   "source": [
    "def ndarray2str(ndarray):\n",
    "    string = ''\n",
    "    for i in ndarray:\n",
    "        string = string + str(int(i))\n",
    "    return string\n",
    "\n",
    "def is_any_one_quantum(low_idx,high_idx,f):\n",
    "    \n",
    "    doubled_f = np.concatenate((f,f))\n",
    "    output_str = ndarray2str(doubled_f[low_idx:high_idx+1])\n",
    "    original_output_str_len = len(output_str)\n",
    "    \n",
    "    if original_output_str_len == 1:\n",
    "        return doubled_f[low_idx]\n",
    "    \n",
    "    power = math.ceil(math.log(len(output_str),2))\n",
    "    if pow(2,power) > len(output_str):\n",
    "        output_str = output_str + '0'*(pow(2,power)-len(output_str))\n",
    "    \n",
    "    \n",
    "    oracle = TruthTableOracle(output_str)\n",
    "    grover = Grover(oracle)\n",
    "    \n",
    "    \n",
    "    result = grover.run(backend, shots=1)\n",
    "    \n",
    "    counts = result['measurement']\n",
    "    \n",
    "    for i in counts:\n",
    "        measurement_outcome = int(i,2)\n",
    "    if measurement_outcome > original_output_str_len - 1:\n",
    "        return 0\n",
    "    else:\n",
    "        measured_idx = measurement_outcome + low_idx\n",
    "        return int(doubled_f[measured_idx])"
   ]
  },
  {
   "cell_type": "markdown",
   "metadata": {},
   "source": [
    "## main function"
   ]
  },
  {
   "cell_type": "markdown",
   "metadata": {},
   "source": [
    "### Create graph and boolean input array"
   ]
  },
  {
   "cell_type": "code",
   "execution_count": 10,
   "metadata": {},
   "outputs": [
    {
     "name": "stdout",
     "output_type": "stream",
     "text": [
      "f:\n",
      "[1. 0. 1. 0. 0. 0. 0. 0. 0. 0. 0. 0. 0. 1. 1. 0. 1. 0. 0. 1. 1. 1. 0. 0.\n",
      " 0. 0. 1. 1. 0. 0. 0. 0. 0. 0. 0. 1. 0. 0. 0. 0. 1. 0. 0. 0. 1. 0. 0. 0.\n",
      " 0. 1. 0. 0. 0. 0. 1. 0. 0. 0. 1. 1. 0. 0. 0. 1. 0. 0. 0. 0. 1. 0. 0. 0.\n",
      " 1. 0. 0. 1. 0. 0. 0. 0. 0. 0. 0. 0. 0. 0. 0. 0. 1. 1. 0. 1. 1. 0. 1. 0.\n",
      " 0. 1. 1. 0.]\n"
     ]
    }
   ],
   "source": [
    "check_input(N, nearest_connect, farthest_connect)\n",
    "a = create_matrix(N, nearest_connect, farthest_connect)\n",
    "\n",
    "f = np.zeros(N)\n",
    "\n",
    "for i in range(N):\n",
    "    f[i] = decision(prob)\n",
    "print(\"f:\")\n",
    "print(f)"
   ]
  },
  {
   "cell_type": "markdown",
   "metadata": {},
   "source": [
    "### Plot graph"
   ]
  },
  {
   "cell_type": "code",
   "execution_count": null,
   "metadata": {},
   "outputs": [
    {
     "name": "stderr",
     "output_type": "stream",
     "text": [
      "C:\\Users\\USER\\AppData\\Local\\Temp/ipykernel_10076/1593130375.py:6: RuntimeWarning: divide by zero encountered in double_scalars\n",
      "  dir = math.atan(dir_vec[1]/dir_vec[0])\n"
     ]
    }
   ],
   "source": [
    "plot(a,f)"
   ]
  },
  {
   "cell_type": "markdown",
   "metadata": {},
   "source": [
    "### Divided into chunks"
   ]
  },
  {
   "cell_type": "code",
   "execution_count": null,
   "metadata": {
    "scrolled": true
   },
   "outputs": [],
   "source": [
    "if(farthest_connect != nearest_connect):\n",
    "    chunk_size = farthest_connect - nearest_connect\n",
    "    is_collision_in_chunk_arr = np.zeros(math.ceil(N/chunk_size))\n",
    "    is_collision_in_chunk_arr_quantum = np.zeros(math.ceil(N/chunk_size))\n",
    "\n",
    "    for i in range(math.ceil(N/chunk_size)):\n",
    "        min_idx_in_chunk = chunk_size * i\n",
    "        max_idx_in_chunk = min(chunk_size * (i+1) - 1,N-1)\n",
    "        min_one_idx_in_chunk = find_min_one_idx(min_idx_in_chunk,max_idx_in_chunk,f)\n",
    "        max_one_idx_in_chunk = find_max_one_idx(min_idx_in_chunk,max_idx_in_chunk,f)\n",
    "\n",
    "        if(min_one_idx_in_chunk==-1):\n",
    "            continue\n",
    "\n",
    "        connect_low_idx = min_one_idx_in_chunk + nearest_connect\n",
    "        connect_high_idx = max_one_idx_in_chunk + farthest_connect\n",
    "\n",
    "        is_collision_in_chunk_arr[i] = is_any_one(connect_low_idx,connect_high_idx,f)\n",
    "        is_collision_in_chunk_arr_quantum[i] = is_any_one_quantum(connect_low_idx,connect_high_idx,f)\n",
    "\n",
    "    is_collision_var = is_any_one(0,len(is_collision_in_chunk_arr)-1,is_collision_in_chunk_arr)\n",
    "    is_collision_var_quantum = is_any_one_quantum(0,len(is_collision_in_chunk_arr_quantum)-1,is_collision_in_chunk_arr_quantum)\n",
    "else:\n",
    "    is_collision_in_chunk_arr = np.zeros(N)\n",
    "    for i in range(N):\n",
    "        connect_low_idx = i + nearest_connect\n",
    "        connect_high_idx = i + farthest_connect\n",
    "        if(f[i]):\n",
    "            is_collision_in_chunk_arr[i] = is_any_one(connect_low_idx, connect_high_idx,f)\n",
    "\n",
    "    is_collision_var = is_any_one(0,len(is_collision_in_chunk_arr)-1,is_collision_in_chunk_arr)\n",
    "    is_collision_var_quantum = is_any_one_quantum(0,len(is_collision_in_chunk_arr)-1,is_collision_in_chunk_arr)"
   ]
  },
  {
   "cell_type": "markdown",
   "metadata": {},
   "source": [
    "### Print result"
   ]
  },
  {
   "cell_type": "code",
   "execution_count": null,
   "metadata": {},
   "outputs": [],
   "source": [
    "print('quantum result:')\n",
    "print(is_collision_var_quantum)\n",
    "print('classical result:')\n",
    "print(is_collision_var)\n",
    "\n",
    "if is_collision_var == is_collision_var_quantum:\n",
    "    print(\"the result of quantum algorithm is identical with classical algorithm\")\n",
    "else:\n",
    "    print(\"the result of quantum algorithm is different from classical algorithm\")\n",
    "if farthest_connect != nearest_connect:\n",
    "    print(\"is_collision_in_chunk_arr:\")\n",
    "    print(is_collision_in_chunk_arr)\n",
    "    print(\"is_collision_in_chunk_arr_quantum:\")\n",
    "    print(is_collision_in_chunk_arr_quantum)"
   ]
  }
 ],
 "metadata": {
  "kernelspec": {
   "display_name": "Python 3 (ipykernel)",
   "language": "python",
   "name": "python3"
  },
  "language_info": {
   "codemirror_mode": {
    "name": "ipython",
    "version": 3
   },
   "file_extension": ".py",
   "mimetype": "text/x-python",
   "name": "python",
   "nbconvert_exporter": "python",
   "pygments_lexer": "ipython3",
   "version": "3.9.7"
  }
 },
 "nbformat": 4,
 "nbformat_minor": 4
}
